{
 "cells": [
  {
   "cell_type": "markdown",
   "metadata": {},
   "source": [
    "# Data Analysis: SQL vs Python\n",
    "\n",
    "The purpose of this demo is to show you that concepts when working with data \n",
    "are transferrable. You should be able to conceptualize the data you are working\n",
    "with and have an idea of what you want to do with it.\n",
    "\n",
    "As you are learning, don't just copy the code  in the videos to achieve the \n",
    "same outcome, think about what is actually occurring when the data is being \n",
    "processed."
   ]
  },
  {
   "cell_type": "markdown",
   "metadata": {},
   "source": [
    "### SQL Magic\n",
    "\n",
    "Last week, we reviewed setting up the IPython SQL extension for using SQL magic\n",
    "commands in Jupyter notebooks. A quick review on what we covered:\n",
    "- Ensure that the _ipython-sql_ and _pymysql_ modules are installed in your environment.\n",
    "- Use the `%env` command to set the DATABASE_URL environment variable to the connectionstring for the database.\n",
    "- Load the SQL magic extension.\n",
    "\n",
    "Running the below cell will setup this workbook to complete those tasks."
   ]
  },
  {
   "cell_type": "code",
   "execution_count": null,
   "metadata": {},
   "outputs": [],
   "source": [
    "# package installation:\n",
    "# ipythonsql - the ipython extension for running sql magic commands in notebooks\n",
    "# pymysql - the python driver for interacting with MySQL databases\n",
    "%pip install ipython-sql pymysql\n",
    "\n",
    "# a connection string for the exampmle database we've setup for this session.\n",
    "connection_string = None # replace with connection string\n",
    "\n",
    "# save the connection string to an environment variable for the ipython sql extension to use.\n",
    "%env DATABASE_URL=$connection_string\n",
    "\n",
    "# load the ipython SQL extension.\n",
    "%load_ext sql"
   ]
  },
  {
   "cell_type": "markdown",
   "metadata": {},
   "source": [
    "### SQL Entity Relationship Diagrams\n",
    "\n",
    "An entity relationship diagram (ERD) will show us the structure of our database\n",
    "and how the different tables in the database relate to each other. This visualization\n",
    "will make it easier for us to conceptualize these relationships.\n",
    "\n",
    "We can generate an ERD for our database using another magic extension: schemadisplay_magic.\n",
    "\n",
    "Run the cell below to install and load the extension."
   ]
  },
  {
   "cell_type": "code",
   "execution_count": null,
   "metadata": {},
   "outputs": [],
   "source": [
    "%pip install schemadisplay-magic\n",
    "%load_ext schemadisplay_magic"
   ]
  },
  {
   "cell_type": "markdown",
   "metadata": {},
   "source": [
    "Now that the extension is installed, we can display the ERD.\n",
    "\n",
    "This week, we will be working with a database for a company that sells toy cars.\n",
    "Run the cell below to show the ERD for the database."
   ]
  },
  {
   "cell_type": "code",
   "execution_count": null,
   "metadata": {},
   "outputs": [],
   "source": [
    "%schema --connection_string $connection_string"
   ]
  },
  {
   "cell_type": "markdown",
   "metadata": {},
   "source": [
    "Knowing how the database is structured can help us think of some questions we \n",
    "might want to answer. Like these:\n",
    "\n",
    "- How many products are we selling and what is our best selling product?\n",
    "- Do any of our customers have an outstanding balance?\n",
    "- Who is our top performing sales representative?\n",
    "\n",
    "We're going to answer each of these questions in both SQL and Python. I'll work\n",
    "through the first question with you all, then we are going to give you time to\n",
    "work through the other two questions on your own."
   ]
  },
  {
   "cell_type": "markdown",
   "metadata": {},
   "source": [
    "#### How many products are we selling and what is our best selling product?"
   ]
  },
  {
   "cell_type": "markdown",
   "metadata": {},
   "source": [
    "Write your SQL code under this section."
   ]
  },
  {
   "cell_type": "code",
   "execution_count": null,
   "metadata": {
    "vscode": {
     "languageId": "sql"
    }
   },
   "outputs": [],
   "source": []
  },
  {
   "cell_type": "markdown",
   "metadata": {},
   "source": [
    "Write your Python code under this section."
   ]
  },
  {
   "cell_type": "code",
   "execution_count": null,
   "metadata": {},
   "outputs": [],
   "source": []
  },
  {
   "cell_type": "markdown",
   "metadata": {},
   "source": [
    "#### Do any of our customers have an outstanding balance?"
   ]
  },
  {
   "cell_type": "markdown",
   "metadata": {},
   "source": [
    "Write your SQL code under this section."
   ]
  },
  {
   "cell_type": "code",
   "execution_count": null,
   "metadata": {
    "vscode": {
     "languageId": "sql"
    }
   },
   "outputs": [],
   "source": []
  },
  {
   "cell_type": "markdown",
   "metadata": {},
   "source": [
    "Write your Python code under this section."
   ]
  },
  {
   "cell_type": "code",
   "execution_count": null,
   "metadata": {},
   "outputs": [],
   "source": []
  },
  {
   "cell_type": "markdown",
   "metadata": {},
   "source": [
    "#### Who is our top performing sales representative?"
   ]
  },
  {
   "cell_type": "markdown",
   "metadata": {},
   "source": [
    "Write your SQL code under this section."
   ]
  },
  {
   "cell_type": "code",
   "execution_count": null,
   "metadata": {
    "vscode": {
     "languageId": "sql"
    }
   },
   "outputs": [],
   "source": []
  },
  {
   "cell_type": "markdown",
   "metadata": {},
   "source": [
    "Write your Python code under this section."
   ]
  },
  {
   "cell_type": "code",
   "execution_count": null,
   "metadata": {},
   "outputs": [],
   "source": []
  }
 ],
 "metadata": {
  "kernelspec": {
   "display_name": "Python 3.10.5 64-bit ('3.10.5')",
   "language": "python",
   "name": "python3"
  },
  "language_info": {
   "codemirror_mode": {
    "name": "ipython",
    "version": 3
   },
   "file_extension": ".py",
   "mimetype": "text/x-python",
   "name": "python",
   "nbconvert_exporter": "python",
   "pygments_lexer": "ipython3",
   "version": "3.10.5"
  },
  "orig_nbformat": 4,
  "vscode": {
   "interpreter": {
    "hash": "72eba8244c8569ac49d438732e93a8e908e06de84acfdd6772ccda19e3a34188"
   }
  }
 },
 "nbformat": 4,
 "nbformat_minor": 2
}
